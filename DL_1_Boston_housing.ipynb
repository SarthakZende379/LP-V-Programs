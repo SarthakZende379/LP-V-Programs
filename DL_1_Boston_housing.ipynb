{
  "nbformat": 4,
  "nbformat_minor": 0,
  "metadata": {
    "colab": {
      "provenance": []
    },
    "kernelspec": {
      "name": "python3",
      "display_name": "Python 3"
    },
    "language_info": {
      "name": "python"
    }
  },
  "cells": [
    {
      "cell_type": "code",
      "execution_count": null,
      "metadata": {
        "id": "zm0_KgE-byPk"
      },
      "outputs": [],
      "source": [
        "import pandas as pd\n",
        "import matplotlib.pyplot as plt"
      ]
    },
    {
      "cell_type": "markdown",
      "source": [
        "Load Dataset"
      ],
      "metadata": {
        "id": "MYFEhEn3X2Ry"
      }
    },
    {
      "cell_type": "code",
      "source": [
        "df = pd.read_csv('Boston.csv')\n",
        "df.head(10)"
      ],
      "metadata": {
        "colab": {
          "base_uri": "https://localhost:8080/",
          "height": 363
        },
        "id": "MAHEJL3Jccml",
        "outputId": "71a992f3-8dbe-433a-ced9-892e24c900a8"
      },
      "execution_count": null,
      "outputs": [
        {
          "output_type": "execute_result",
          "data": {
            "text/plain": [
              "      CRIM    ZN  INDUS  CHAS    NOX     RM    AGE     DIS  RAD  TAX  PTRATIO  \\\n",
              "0  0.00632  18.0   2.31     0  0.538  6.575   65.2  4.0900    1  296     15.3   \n",
              "1  0.02731   0.0   7.07     0  0.469  6.421   78.9  4.9671    2  242     17.8   \n",
              "2  0.02729   0.0   7.07     0  0.469  7.185   61.1  4.9671    2  242     17.8   \n",
              "3  0.03237   0.0   2.18     0  0.458  6.998   45.8  6.0622    3  222     18.7   \n",
              "4  0.06905   0.0   2.18     0  0.458  7.147   54.2  6.0622    3  222     18.7   \n",
              "5  0.02985   0.0   2.18     0  0.458  6.430   58.7  6.0622    3  222     18.7   \n",
              "6  0.08829  12.5   7.87     0  0.524  6.012   66.6  5.5605    5  311     15.2   \n",
              "7  0.14455  12.5   7.87     0  0.524  6.172   96.1  5.9505    5  311     15.2   \n",
              "8  0.21124  12.5   7.87     0  0.524  5.631  100.0  6.0821    5  311     15.2   \n",
              "9  0.17004  12.5   7.87     0  0.524  6.004   85.9  6.5921    5  311     15.2   \n",
              "\n",
              "        B  LSTAT  MEDV  CAT. MEDV  Unnamed: 15  Unnamed: 16  \n",
              "0  396.90   4.98  24.0          0          NaN          NaN  \n",
              "1  396.90   9.14  21.6          0          NaN          NaN  \n",
              "2  392.83   4.03  34.7          1          NaN          NaN  \n",
              "3  394.63   2.94  33.4          1          NaN          NaN  \n",
              "4  396.90   5.33  36.2          1          NaN          NaN  \n",
              "5  394.12   5.21  28.7          0          NaN          NaN  \n",
              "6  395.60  12.43  22.9          0          NaN          NaN  \n",
              "7  396.90  19.15  27.1          0          NaN          NaN  \n",
              "8  386.63  29.93  16.5          0          NaN          NaN  \n",
              "9  386.71  17.10  18.9          0          NaN          NaN  "
            ],
            "text/html": [
              "\n",
              "  <div id=\"df-bf0c108f-81e4-42c3-942b-0413a1af7639\">\n",
              "    <div class=\"colab-df-container\">\n",
              "      <div>\n",
              "<style scoped>\n",
              "    .dataframe tbody tr th:only-of-type {\n",
              "        vertical-align: middle;\n",
              "    }\n",
              "\n",
              "    .dataframe tbody tr th {\n",
              "        vertical-align: top;\n",
              "    }\n",
              "\n",
              "    .dataframe thead th {\n",
              "        text-align: right;\n",
              "    }\n",
              "</style>\n",
              "<table border=\"1\" class=\"dataframe\">\n",
              "  <thead>\n",
              "    <tr style=\"text-align: right;\">\n",
              "      <th></th>\n",
              "      <th>CRIM</th>\n",
              "      <th>ZN</th>\n",
              "      <th>INDUS</th>\n",
              "      <th>CHAS</th>\n",
              "      <th>NOX</th>\n",
              "      <th>RM</th>\n",
              "      <th>AGE</th>\n",
              "      <th>DIS</th>\n",
              "      <th>RAD</th>\n",
              "      <th>TAX</th>\n",
              "      <th>PTRATIO</th>\n",
              "      <th>B</th>\n",
              "      <th>LSTAT</th>\n",
              "      <th>MEDV</th>\n",
              "      <th>CAT. MEDV</th>\n",
              "      <th>Unnamed: 15</th>\n",
              "      <th>Unnamed: 16</th>\n",
              "    </tr>\n",
              "  </thead>\n",
              "  <tbody>\n",
              "    <tr>\n",
              "      <th>0</th>\n",
              "      <td>0.00632</td>\n",
              "      <td>18.0</td>\n",
              "      <td>2.31</td>\n",
              "      <td>0</td>\n",
              "      <td>0.538</td>\n",
              "      <td>6.575</td>\n",
              "      <td>65.2</td>\n",
              "      <td>4.0900</td>\n",
              "      <td>1</td>\n",
              "      <td>296</td>\n",
              "      <td>15.3</td>\n",
              "      <td>396.90</td>\n",
              "      <td>4.98</td>\n",
              "      <td>24.0</td>\n",
              "      <td>0</td>\n",
              "      <td>NaN</td>\n",
              "      <td>NaN</td>\n",
              "    </tr>\n",
              "    <tr>\n",
              "      <th>1</th>\n",
              "      <td>0.02731</td>\n",
              "      <td>0.0</td>\n",
              "      <td>7.07</td>\n",
              "      <td>0</td>\n",
              "      <td>0.469</td>\n",
              "      <td>6.421</td>\n",
              "      <td>78.9</td>\n",
              "      <td>4.9671</td>\n",
              "      <td>2</td>\n",
              "      <td>242</td>\n",
              "      <td>17.8</td>\n",
              "      <td>396.90</td>\n",
              "      <td>9.14</td>\n",
              "      <td>21.6</td>\n",
              "      <td>0</td>\n",
              "      <td>NaN</td>\n",
              "      <td>NaN</td>\n",
              "    </tr>\n",
              "    <tr>\n",
              "      <th>2</th>\n",
              "      <td>0.02729</td>\n",
              "      <td>0.0</td>\n",
              "      <td>7.07</td>\n",
              "      <td>0</td>\n",
              "      <td>0.469</td>\n",
              "      <td>7.185</td>\n",
              "      <td>61.1</td>\n",
              "      <td>4.9671</td>\n",
              "      <td>2</td>\n",
              "      <td>242</td>\n",
              "      <td>17.8</td>\n",
              "      <td>392.83</td>\n",
              "      <td>4.03</td>\n",
              "      <td>34.7</td>\n",
              "      <td>1</td>\n",
              "      <td>NaN</td>\n",
              "      <td>NaN</td>\n",
              "    </tr>\n",
              "    <tr>\n",
              "      <th>3</th>\n",
              "      <td>0.03237</td>\n",
              "      <td>0.0</td>\n",
              "      <td>2.18</td>\n",
              "      <td>0</td>\n",
              "      <td>0.458</td>\n",
              "      <td>6.998</td>\n",
              "      <td>45.8</td>\n",
              "      <td>6.0622</td>\n",
              "      <td>3</td>\n",
              "      <td>222</td>\n",
              "      <td>18.7</td>\n",
              "      <td>394.63</td>\n",
              "      <td>2.94</td>\n",
              "      <td>33.4</td>\n",
              "      <td>1</td>\n",
              "      <td>NaN</td>\n",
              "      <td>NaN</td>\n",
              "    </tr>\n",
              "    <tr>\n",
              "      <th>4</th>\n",
              "      <td>0.06905</td>\n",
              "      <td>0.0</td>\n",
              "      <td>2.18</td>\n",
              "      <td>0</td>\n",
              "      <td>0.458</td>\n",
              "      <td>7.147</td>\n",
              "      <td>54.2</td>\n",
              "      <td>6.0622</td>\n",
              "      <td>3</td>\n",
              "      <td>222</td>\n",
              "      <td>18.7</td>\n",
              "      <td>396.90</td>\n",
              "      <td>5.33</td>\n",
              "      <td>36.2</td>\n",
              "      <td>1</td>\n",
              "      <td>NaN</td>\n",
              "      <td>NaN</td>\n",
              "    </tr>\n",
              "    <tr>\n",
              "      <th>5</th>\n",
              "      <td>0.02985</td>\n",
              "      <td>0.0</td>\n",
              "      <td>2.18</td>\n",
              "      <td>0</td>\n",
              "      <td>0.458</td>\n",
              "      <td>6.430</td>\n",
              "      <td>58.7</td>\n",
              "      <td>6.0622</td>\n",
              "      <td>3</td>\n",
              "      <td>222</td>\n",
              "      <td>18.7</td>\n",
              "      <td>394.12</td>\n",
              "      <td>5.21</td>\n",
              "      <td>28.7</td>\n",
              "      <td>0</td>\n",
              "      <td>NaN</td>\n",
              "      <td>NaN</td>\n",
              "    </tr>\n",
              "    <tr>\n",
              "      <th>6</th>\n",
              "      <td>0.08829</td>\n",
              "      <td>12.5</td>\n",
              "      <td>7.87</td>\n",
              "      <td>0</td>\n",
              "      <td>0.524</td>\n",
              "      <td>6.012</td>\n",
              "      <td>66.6</td>\n",
              "      <td>5.5605</td>\n",
              "      <td>5</td>\n",
              "      <td>311</td>\n",
              "      <td>15.2</td>\n",
              "      <td>395.60</td>\n",
              "      <td>12.43</td>\n",
              "      <td>22.9</td>\n",
              "      <td>0</td>\n",
              "      <td>NaN</td>\n",
              "      <td>NaN</td>\n",
              "    </tr>\n",
              "    <tr>\n",
              "      <th>7</th>\n",
              "      <td>0.14455</td>\n",
              "      <td>12.5</td>\n",
              "      <td>7.87</td>\n",
              "      <td>0</td>\n",
              "      <td>0.524</td>\n",
              "      <td>6.172</td>\n",
              "      <td>96.1</td>\n",
              "      <td>5.9505</td>\n",
              "      <td>5</td>\n",
              "      <td>311</td>\n",
              "      <td>15.2</td>\n",
              "      <td>396.90</td>\n",
              "      <td>19.15</td>\n",
              "      <td>27.1</td>\n",
              "      <td>0</td>\n",
              "      <td>NaN</td>\n",
              "      <td>NaN</td>\n",
              "    </tr>\n",
              "    <tr>\n",
              "      <th>8</th>\n",
              "      <td>0.21124</td>\n",
              "      <td>12.5</td>\n",
              "      <td>7.87</td>\n",
              "      <td>0</td>\n",
              "      <td>0.524</td>\n",
              "      <td>5.631</td>\n",
              "      <td>100.0</td>\n",
              "      <td>6.0821</td>\n",
              "      <td>5</td>\n",
              "      <td>311</td>\n",
              "      <td>15.2</td>\n",
              "      <td>386.63</td>\n",
              "      <td>29.93</td>\n",
              "      <td>16.5</td>\n",
              "      <td>0</td>\n",
              "      <td>NaN</td>\n",
              "      <td>NaN</td>\n",
              "    </tr>\n",
              "    <tr>\n",
              "      <th>9</th>\n",
              "      <td>0.17004</td>\n",
              "      <td>12.5</td>\n",
              "      <td>7.87</td>\n",
              "      <td>0</td>\n",
              "      <td>0.524</td>\n",
              "      <td>6.004</td>\n",
              "      <td>85.9</td>\n",
              "      <td>6.5921</td>\n",
              "      <td>5</td>\n",
              "      <td>311</td>\n",
              "      <td>15.2</td>\n",
              "      <td>386.71</td>\n",
              "      <td>17.10</td>\n",
              "      <td>18.9</td>\n",
              "      <td>0</td>\n",
              "      <td>NaN</td>\n",
              "      <td>NaN</td>\n",
              "    </tr>\n",
              "  </tbody>\n",
              "</table>\n",
              "</div>\n",
              "      <button class=\"colab-df-convert\" onclick=\"convertToInteractive('df-bf0c108f-81e4-42c3-942b-0413a1af7639')\"\n",
              "              title=\"Convert this dataframe to an interactive table.\"\n",
              "              style=\"display:none;\">\n",
              "        \n",
              "  <svg xmlns=\"http://www.w3.org/2000/svg\" height=\"24px\"viewBox=\"0 0 24 24\"\n",
              "       width=\"24px\">\n",
              "    <path d=\"M0 0h24v24H0V0z\" fill=\"none\"/>\n",
              "    <path d=\"M18.56 5.44l.94 2.06.94-2.06 2.06-.94-2.06-.94-.94-2.06-.94 2.06-2.06.94zm-11 1L8.5 8.5l.94-2.06 2.06-.94-2.06-.94L8.5 2.5l-.94 2.06-2.06.94zm10 10l.94 2.06.94-2.06 2.06-.94-2.06-.94-.94-2.06-.94 2.06-2.06.94z\"/><path d=\"M17.41 7.96l-1.37-1.37c-.4-.4-.92-.59-1.43-.59-.52 0-1.04.2-1.43.59L10.3 9.45l-7.72 7.72c-.78.78-.78 2.05 0 2.83L4 21.41c.39.39.9.59 1.41.59.51 0 1.02-.2 1.41-.59l7.78-7.78 2.81-2.81c.8-.78.8-2.07 0-2.86zM5.41 20L4 18.59l7.72-7.72 1.47 1.35L5.41 20z\"/>\n",
              "  </svg>\n",
              "      </button>\n",
              "      \n",
              "  <style>\n",
              "    .colab-df-container {\n",
              "      display:flex;\n",
              "      flex-wrap:wrap;\n",
              "      gap: 12px;\n",
              "    }\n",
              "\n",
              "    .colab-df-convert {\n",
              "      background-color: #E8F0FE;\n",
              "      border: none;\n",
              "      border-radius: 50%;\n",
              "      cursor: pointer;\n",
              "      display: none;\n",
              "      fill: #1967D2;\n",
              "      height: 32px;\n",
              "      padding: 0 0 0 0;\n",
              "      width: 32px;\n",
              "    }\n",
              "\n",
              "    .colab-df-convert:hover {\n",
              "      background-color: #E2EBFA;\n",
              "      box-shadow: 0px 1px 2px rgba(60, 64, 67, 0.3), 0px 1px 3px 1px rgba(60, 64, 67, 0.15);\n",
              "      fill: #174EA6;\n",
              "    }\n",
              "\n",
              "    [theme=dark] .colab-df-convert {\n",
              "      background-color: #3B4455;\n",
              "      fill: #D2E3FC;\n",
              "    }\n",
              "\n",
              "    [theme=dark] .colab-df-convert:hover {\n",
              "      background-color: #434B5C;\n",
              "      box-shadow: 0px 1px 3px 1px rgba(0, 0, 0, 0.15);\n",
              "      filter: drop-shadow(0px 1px 2px rgba(0, 0, 0, 0.3));\n",
              "      fill: #FFFFFF;\n",
              "    }\n",
              "  </style>\n",
              "\n",
              "      <script>\n",
              "        const buttonEl =\n",
              "          document.querySelector('#df-bf0c108f-81e4-42c3-942b-0413a1af7639 button.colab-df-convert');\n",
              "        buttonEl.style.display =\n",
              "          google.colab.kernel.accessAllowed ? 'block' : 'none';\n",
              "\n",
              "        async function convertToInteractive(key) {\n",
              "          const element = document.querySelector('#df-bf0c108f-81e4-42c3-942b-0413a1af7639');\n",
              "          const dataTable =\n",
              "            await google.colab.kernel.invokeFunction('convertToInteractive',\n",
              "                                                     [key], {});\n",
              "          if (!dataTable) return;\n",
              "\n",
              "          const docLinkHtml = 'Like what you see? Visit the ' +\n",
              "            '<a target=\"_blank\" href=https://colab.research.google.com/notebooks/data_table.ipynb>data table notebook</a>'\n",
              "            + ' to learn more about interactive tables.';\n",
              "          element.innerHTML = '';\n",
              "          dataTable['output_type'] = 'display_data';\n",
              "          await google.colab.output.renderOutput(dataTable, element);\n",
              "          const docLink = document.createElement('div');\n",
              "          docLink.innerHTML = docLinkHtml;\n",
              "          element.appendChild(docLink);\n",
              "        }\n",
              "      </script>\n",
              "    </div>\n",
              "  </div>\n",
              "  "
            ]
          },
          "metadata": {},
          "execution_count": 2
        }
      ]
    },
    {
      "cell_type": "code",
      "source": [
        "df.drop(columns=['Unnamed: 15','Unnamed: 16'],inplace=True)"
      ],
      "metadata": {
        "id": "ILbMYM28ccpR"
      },
      "execution_count": null,
      "outputs": []
    },
    {
      "cell_type": "code",
      "source": [
        "df.drop(columns=['CAT. MEDV'],inplace=True)"
      ],
      "metadata": {
        "id": "LhJNuQJCccr4"
      },
      "execution_count": null,
      "outputs": []
    },
    {
      "cell_type": "markdown",
      "source": [
        "Checking for null values"
      ],
      "metadata": {
        "id": "zXUnBvvpYJgo"
      }
    },
    {
      "cell_type": "code",
      "source": [
        "df.isnull().sum()"
      ],
      "metadata": {
        "colab": {
          "base_uri": "https://localhost:8080/"
        },
        "id": "RMXP3WtEccuQ",
        "outputId": "e4b8c284-de46-46e2-fc57-a332db025700"
      },
      "execution_count": null,
      "outputs": [
        {
          "output_type": "execute_result",
          "data": {
            "text/plain": [
              "CRIM       0\n",
              "ZN         0\n",
              "INDUS      0\n",
              "CHAS       0\n",
              "NOX        0\n",
              "RM         0\n",
              "AGE        0\n",
              "DIS        0\n",
              "RAD        0\n",
              "TAX        0\n",
              "PTRATIO    0\n",
              "B          0\n",
              "LSTAT      0\n",
              "MEDV       0\n",
              "dtype: int64"
            ]
          },
          "metadata": {},
          "execution_count": 5
        }
      ]
    },
    {
      "cell_type": "code",
      "source": [
        "df.info()"
      ],
      "metadata": {
        "colab": {
          "base_uri": "https://localhost:8080/"
        },
        "id": "tMIo6QQTccxN",
        "outputId": "30adc8e9-b8f5-4ff1-b844-3661a0a70588"
      },
      "execution_count": null,
      "outputs": [
        {
          "output_type": "stream",
          "name": "stdout",
          "text": [
            "<class 'pandas.core.frame.DataFrame'>\n",
            "RangeIndex: 506 entries, 0 to 505\n",
            "Data columns (total 14 columns):\n",
            " #   Column   Non-Null Count  Dtype  \n",
            "---  ------   --------------  -----  \n",
            " 0   CRIM     506 non-null    float64\n",
            " 1   ZN       506 non-null    float64\n",
            " 2   INDUS    506 non-null    float64\n",
            " 3   CHAS     506 non-null    int64  \n",
            " 4   NOX      506 non-null    float64\n",
            " 5   RM       506 non-null    float64\n",
            " 6   AGE      506 non-null    float64\n",
            " 7   DIS      506 non-null    float64\n",
            " 8   RAD      506 non-null    int64  \n",
            " 9   TAX      506 non-null    int64  \n",
            " 10  PTRATIO  506 non-null    float64\n",
            " 11  B        506 non-null    float64\n",
            " 12  LSTAT    506 non-null    float64\n",
            " 13  MEDV     506 non-null    float64\n",
            "dtypes: float64(11), int64(3)\n",
            "memory usage: 55.5 KB\n"
          ]
        }
      ]
    },
    {
      "cell_type": "code",
      "source": [
        "df.describe()"
      ],
      "metadata": {
        "colab": {
          "base_uri": "https://localhost:8080/",
          "height": 344
        },
        "id": "CHCQNpf9cc0l",
        "outputId": "6d66ff88-3517-4d31-8102-38b9d1e3645b"
      },
      "execution_count": null,
      "outputs": [
        {
          "output_type": "execute_result",
          "data": {
            "text/plain": [
              "             CRIM          ZN       INDUS        CHAS         NOX          RM  \\\n",
              "count  506.000000  506.000000  506.000000  506.000000  506.000000  506.000000   \n",
              "mean     3.613524   11.363636   11.136779    0.069170    0.554695    6.284634   \n",
              "std      8.601545   23.322453    6.860353    0.253994    0.115878    0.702617   \n",
              "min      0.006320    0.000000    0.460000    0.000000    0.385000    3.561000   \n",
              "25%      0.082045    0.000000    5.190000    0.000000    0.449000    5.885500   \n",
              "50%      0.256510    0.000000    9.690000    0.000000    0.538000    6.208500   \n",
              "75%      3.677083   12.500000   18.100000    0.000000    0.624000    6.623500   \n",
              "max     88.976200  100.000000   27.740000    1.000000    0.871000    8.780000   \n",
              "\n",
              "              AGE         DIS         RAD         TAX     PTRATIO           B  \\\n",
              "count  506.000000  506.000000  506.000000  506.000000  506.000000  506.000000   \n",
              "mean    68.574901    3.795043    9.549407  408.237154   18.455534  356.674032   \n",
              "std     28.148861    2.105710    8.707259  168.537116    2.164946   91.294864   \n",
              "min      2.900000    1.129600    1.000000  187.000000   12.600000    0.320000   \n",
              "25%     45.025000    2.100175    4.000000  279.000000   17.400000  375.377500   \n",
              "50%     77.500000    3.207450    5.000000  330.000000   19.050000  391.440000   \n",
              "75%     94.075000    5.188425   24.000000  666.000000   20.200000  396.225000   \n",
              "max    100.000000   12.126500   24.000000  711.000000   22.000000  396.900000   \n",
              "\n",
              "            LSTAT        MEDV  \n",
              "count  506.000000  506.000000  \n",
              "mean    12.653063   22.532806  \n",
              "std      7.141062    9.197104  \n",
              "min      1.730000    5.000000  \n",
              "25%      6.950000   17.025000  \n",
              "50%     11.360000   21.200000  \n",
              "75%     16.955000   25.000000  \n",
              "max     37.970000   50.000000  "
            ],
            "text/html": [
              "\n",
              "  <div id=\"df-421c9ba2-b420-4a7d-af47-3165913fb730\">\n",
              "    <div class=\"colab-df-container\">\n",
              "      <div>\n",
              "<style scoped>\n",
              "    .dataframe tbody tr th:only-of-type {\n",
              "        vertical-align: middle;\n",
              "    }\n",
              "\n",
              "    .dataframe tbody tr th {\n",
              "        vertical-align: top;\n",
              "    }\n",
              "\n",
              "    .dataframe thead th {\n",
              "        text-align: right;\n",
              "    }\n",
              "</style>\n",
              "<table border=\"1\" class=\"dataframe\">\n",
              "  <thead>\n",
              "    <tr style=\"text-align: right;\">\n",
              "      <th></th>\n",
              "      <th>CRIM</th>\n",
              "      <th>ZN</th>\n",
              "      <th>INDUS</th>\n",
              "      <th>CHAS</th>\n",
              "      <th>NOX</th>\n",
              "      <th>RM</th>\n",
              "      <th>AGE</th>\n",
              "      <th>DIS</th>\n",
              "      <th>RAD</th>\n",
              "      <th>TAX</th>\n",
              "      <th>PTRATIO</th>\n",
              "      <th>B</th>\n",
              "      <th>LSTAT</th>\n",
              "      <th>MEDV</th>\n",
              "    </tr>\n",
              "  </thead>\n",
              "  <tbody>\n",
              "    <tr>\n",
              "      <th>count</th>\n",
              "      <td>506.000000</td>\n",
              "      <td>506.000000</td>\n",
              "      <td>506.000000</td>\n",
              "      <td>506.000000</td>\n",
              "      <td>506.000000</td>\n",
              "      <td>506.000000</td>\n",
              "      <td>506.000000</td>\n",
              "      <td>506.000000</td>\n",
              "      <td>506.000000</td>\n",
              "      <td>506.000000</td>\n",
              "      <td>506.000000</td>\n",
              "      <td>506.000000</td>\n",
              "      <td>506.000000</td>\n",
              "      <td>506.000000</td>\n",
              "    </tr>\n",
              "    <tr>\n",
              "      <th>mean</th>\n",
              "      <td>3.613524</td>\n",
              "      <td>11.363636</td>\n",
              "      <td>11.136779</td>\n",
              "      <td>0.069170</td>\n",
              "      <td>0.554695</td>\n",
              "      <td>6.284634</td>\n",
              "      <td>68.574901</td>\n",
              "      <td>3.795043</td>\n",
              "      <td>9.549407</td>\n",
              "      <td>408.237154</td>\n",
              "      <td>18.455534</td>\n",
              "      <td>356.674032</td>\n",
              "      <td>12.653063</td>\n",
              "      <td>22.532806</td>\n",
              "    </tr>\n",
              "    <tr>\n",
              "      <th>std</th>\n",
              "      <td>8.601545</td>\n",
              "      <td>23.322453</td>\n",
              "      <td>6.860353</td>\n",
              "      <td>0.253994</td>\n",
              "      <td>0.115878</td>\n",
              "      <td>0.702617</td>\n",
              "      <td>28.148861</td>\n",
              "      <td>2.105710</td>\n",
              "      <td>8.707259</td>\n",
              "      <td>168.537116</td>\n",
              "      <td>2.164946</td>\n",
              "      <td>91.294864</td>\n",
              "      <td>7.141062</td>\n",
              "      <td>9.197104</td>\n",
              "    </tr>\n",
              "    <tr>\n",
              "      <th>min</th>\n",
              "      <td>0.006320</td>\n",
              "      <td>0.000000</td>\n",
              "      <td>0.460000</td>\n",
              "      <td>0.000000</td>\n",
              "      <td>0.385000</td>\n",
              "      <td>3.561000</td>\n",
              "      <td>2.900000</td>\n",
              "      <td>1.129600</td>\n",
              "      <td>1.000000</td>\n",
              "      <td>187.000000</td>\n",
              "      <td>12.600000</td>\n",
              "      <td>0.320000</td>\n",
              "      <td>1.730000</td>\n",
              "      <td>5.000000</td>\n",
              "    </tr>\n",
              "    <tr>\n",
              "      <th>25%</th>\n",
              "      <td>0.082045</td>\n",
              "      <td>0.000000</td>\n",
              "      <td>5.190000</td>\n",
              "      <td>0.000000</td>\n",
              "      <td>0.449000</td>\n",
              "      <td>5.885500</td>\n",
              "      <td>45.025000</td>\n",
              "      <td>2.100175</td>\n",
              "      <td>4.000000</td>\n",
              "      <td>279.000000</td>\n",
              "      <td>17.400000</td>\n",
              "      <td>375.377500</td>\n",
              "      <td>6.950000</td>\n",
              "      <td>17.025000</td>\n",
              "    </tr>\n",
              "    <tr>\n",
              "      <th>50%</th>\n",
              "      <td>0.256510</td>\n",
              "      <td>0.000000</td>\n",
              "      <td>9.690000</td>\n",
              "      <td>0.000000</td>\n",
              "      <td>0.538000</td>\n",
              "      <td>6.208500</td>\n",
              "      <td>77.500000</td>\n",
              "      <td>3.207450</td>\n",
              "      <td>5.000000</td>\n",
              "      <td>330.000000</td>\n",
              "      <td>19.050000</td>\n",
              "      <td>391.440000</td>\n",
              "      <td>11.360000</td>\n",
              "      <td>21.200000</td>\n",
              "    </tr>\n",
              "    <tr>\n",
              "      <th>75%</th>\n",
              "      <td>3.677083</td>\n",
              "      <td>12.500000</td>\n",
              "      <td>18.100000</td>\n",
              "      <td>0.000000</td>\n",
              "      <td>0.624000</td>\n",
              "      <td>6.623500</td>\n",
              "      <td>94.075000</td>\n",
              "      <td>5.188425</td>\n",
              "      <td>24.000000</td>\n",
              "      <td>666.000000</td>\n",
              "      <td>20.200000</td>\n",
              "      <td>396.225000</td>\n",
              "      <td>16.955000</td>\n",
              "      <td>25.000000</td>\n",
              "    </tr>\n",
              "    <tr>\n",
              "      <th>max</th>\n",
              "      <td>88.976200</td>\n",
              "      <td>100.000000</td>\n",
              "      <td>27.740000</td>\n",
              "      <td>1.000000</td>\n",
              "      <td>0.871000</td>\n",
              "      <td>8.780000</td>\n",
              "      <td>100.000000</td>\n",
              "      <td>12.126500</td>\n",
              "      <td>24.000000</td>\n",
              "      <td>711.000000</td>\n",
              "      <td>22.000000</td>\n",
              "      <td>396.900000</td>\n",
              "      <td>37.970000</td>\n",
              "      <td>50.000000</td>\n",
              "    </tr>\n",
              "  </tbody>\n",
              "</table>\n",
              "</div>\n",
              "      <button class=\"colab-df-convert\" onclick=\"convertToInteractive('df-421c9ba2-b420-4a7d-af47-3165913fb730')\"\n",
              "              title=\"Convert this dataframe to an interactive table.\"\n",
              "              style=\"display:none;\">\n",
              "        \n",
              "  <svg xmlns=\"http://www.w3.org/2000/svg\" height=\"24px\"viewBox=\"0 0 24 24\"\n",
              "       width=\"24px\">\n",
              "    <path d=\"M0 0h24v24H0V0z\" fill=\"none\"/>\n",
              "    <path d=\"M18.56 5.44l.94 2.06.94-2.06 2.06-.94-2.06-.94-.94-2.06-.94 2.06-2.06.94zm-11 1L8.5 8.5l.94-2.06 2.06-.94-2.06-.94L8.5 2.5l-.94 2.06-2.06.94zm10 10l.94 2.06.94-2.06 2.06-.94-2.06-.94-.94-2.06-.94 2.06-2.06.94z\"/><path d=\"M17.41 7.96l-1.37-1.37c-.4-.4-.92-.59-1.43-.59-.52 0-1.04.2-1.43.59L10.3 9.45l-7.72 7.72c-.78.78-.78 2.05 0 2.83L4 21.41c.39.39.9.59 1.41.59.51 0 1.02-.2 1.41-.59l7.78-7.78 2.81-2.81c.8-.78.8-2.07 0-2.86zM5.41 20L4 18.59l7.72-7.72 1.47 1.35L5.41 20z\"/>\n",
              "  </svg>\n",
              "      </button>\n",
              "      \n",
              "  <style>\n",
              "    .colab-df-container {\n",
              "      display:flex;\n",
              "      flex-wrap:wrap;\n",
              "      gap: 12px;\n",
              "    }\n",
              "\n",
              "    .colab-df-convert {\n",
              "      background-color: #E8F0FE;\n",
              "      border: none;\n",
              "      border-radius: 50%;\n",
              "      cursor: pointer;\n",
              "      display: none;\n",
              "      fill: #1967D2;\n",
              "      height: 32px;\n",
              "      padding: 0 0 0 0;\n",
              "      width: 32px;\n",
              "    }\n",
              "\n",
              "    .colab-df-convert:hover {\n",
              "      background-color: #E2EBFA;\n",
              "      box-shadow: 0px 1px 2px rgba(60, 64, 67, 0.3), 0px 1px 3px 1px rgba(60, 64, 67, 0.15);\n",
              "      fill: #174EA6;\n",
              "    }\n",
              "\n",
              "    [theme=dark] .colab-df-convert {\n",
              "      background-color: #3B4455;\n",
              "      fill: #D2E3FC;\n",
              "    }\n",
              "\n",
              "    [theme=dark] .colab-df-convert:hover {\n",
              "      background-color: #434B5C;\n",
              "      box-shadow: 0px 1px 3px 1px rgba(0, 0, 0, 0.15);\n",
              "      filter: drop-shadow(0px 1px 2px rgba(0, 0, 0, 0.3));\n",
              "      fill: #FFFFFF;\n",
              "    }\n",
              "  </style>\n",
              "\n",
              "      <script>\n",
              "        const buttonEl =\n",
              "          document.querySelector('#df-421c9ba2-b420-4a7d-af47-3165913fb730 button.colab-df-convert');\n",
              "        buttonEl.style.display =\n",
              "          google.colab.kernel.accessAllowed ? 'block' : 'none';\n",
              "\n",
              "        async function convertToInteractive(key) {\n",
              "          const element = document.querySelector('#df-421c9ba2-b420-4a7d-af47-3165913fb730');\n",
              "          const dataTable =\n",
              "            await google.colab.kernel.invokeFunction('convertToInteractive',\n",
              "                                                     [key], {});\n",
              "          if (!dataTable) return;\n",
              "\n",
              "          const docLinkHtml = 'Like what you see? Visit the ' +\n",
              "            '<a target=\"_blank\" href=https://colab.research.google.com/notebooks/data_table.ipynb>data table notebook</a>'\n",
              "            + ' to learn more about interactive tables.';\n",
              "          element.innerHTML = '';\n",
              "          dataTable['output_type'] = 'display_data';\n",
              "          await google.colab.output.renderOutput(dataTable, element);\n",
              "          const docLink = document.createElement('div');\n",
              "          docLink.innerHTML = docLinkHtml;\n",
              "          element.appendChild(docLink);\n",
              "        }\n",
              "      </script>\n",
              "    </div>\n",
              "  </div>\n",
              "  "
            ]
          },
          "metadata": {},
          "execution_count": 7
        }
      ]
    },
    {
      "cell_type": "markdown",
      "source": [
        "Checking correlation with target variable MEDV"
      ],
      "metadata": {
        "id": "NGQtdFJ-YOTP"
      }
    },
    {
      "cell_type": "code",
      "source": [
        "df.corr()['MEDV'].sort_values()"
      ],
      "metadata": {
        "colab": {
          "base_uri": "https://localhost:8080/"
        },
        "id": "lei764jpcc4L",
        "outputId": "87e1d00a-9350-449d-92ce-bfeb019583b3"
      },
      "execution_count": null,
      "outputs": [
        {
          "output_type": "execute_result",
          "data": {
            "text/plain": [
              "LSTAT     -0.737663\n",
              "PTRATIO   -0.507787\n",
              "INDUS     -0.483725\n",
              "TAX       -0.468536\n",
              "NOX       -0.427321\n",
              "CRIM      -0.388305\n",
              "RAD       -0.381626\n",
              "AGE       -0.376955\n",
              "CHAS       0.175260\n",
              "DIS        0.249929\n",
              "B          0.333461\n",
              "ZN         0.360445\n",
              "RM         0.695360\n",
              "MEDV       1.000000\n",
              "Name: MEDV, dtype: float64"
            ]
          },
          "metadata": {},
          "execution_count": 8
        }
      ]
    },
    {
      "cell_type": "code",
      "source": [
        "X = df.loc[:,['LSTAT','PTRATIO','RM']]\n",
        "Y = df.loc[:,\"MEDV\"]\n",
        "X.shape,Y.shape"
      ],
      "metadata": {
        "colab": {
          "base_uri": "https://localhost:8080/"
        },
        "id": "VnzZRcgccc6V",
        "outputId": "2ba34321-3990-45db-a1de-ce419ea7c781"
      },
      "execution_count": null,
      "outputs": [
        {
          "output_type": "execute_result",
          "data": {
            "text/plain": [
              "((506, 3), (506,))"
            ]
          },
          "metadata": {},
          "execution_count": 9
        }
      ]
    },
    {
      "cell_type": "markdown",
      "source": [
        "Preparing training and testing data set"
      ],
      "metadata": {
        "id": "wie0y9SoYR7_"
      }
    },
    {
      "cell_type": "code",
      "source": [
        "from sklearn.model_selection import train_test_split\n",
        "x_train,x_test,y_train,y_test = train_test_split(X,Y,test_size=0.25,random_state=10)"
      ],
      "metadata": {
        "id": "WwlhQsiVcc9b"
      },
      "execution_count": null,
      "outputs": []
    },
    {
      "cell_type": "markdown",
      "source": [
        "Normalizing training and testing dataset"
      ],
      "metadata": {
        "id": "FWHGoIA1YU4D"
      }
    },
    {
      "cell_type": "code",
      "source": [
        "from sklearn.preprocessing import StandardScaler"
      ],
      "metadata": {
        "id": "_xeVdk1acdCw"
      },
      "execution_count": null,
      "outputs": []
    },
    {
      "cell_type": "code",
      "source": [
        "scaler = StandardScaler()"
      ],
      "metadata": {
        "id": "Oq_RxGCKcdF6"
      },
      "execution_count": null,
      "outputs": []
    },
    {
      "cell_type": "code",
      "source": [
        "scaler.fit(x_train)"
      ],
      "metadata": {
        "colab": {
          "base_uri": "https://localhost:8080/",
          "height": 74
        },
        "id": "hA1wNzUTcdJg",
        "outputId": "625ba52a-1742-4df0-b122-0fc470677536"
      },
      "execution_count": null,
      "outputs": [
        {
          "output_type": "execute_result",
          "data": {
            "text/plain": [
              "StandardScaler()"
            ],
            "text/html": [
              "<style>#sk-container-id-1 {color: black;background-color: white;}#sk-container-id-1 pre{padding: 0;}#sk-container-id-1 div.sk-toggleable {background-color: white;}#sk-container-id-1 label.sk-toggleable__label {cursor: pointer;display: block;width: 100%;margin-bottom: 0;padding: 0.3em;box-sizing: border-box;text-align: center;}#sk-container-id-1 label.sk-toggleable__label-arrow:before {content: \"▸\";float: left;margin-right: 0.25em;color: #696969;}#sk-container-id-1 label.sk-toggleable__label-arrow:hover:before {color: black;}#sk-container-id-1 div.sk-estimator:hover label.sk-toggleable__label-arrow:before {color: black;}#sk-container-id-1 div.sk-toggleable__content {max-height: 0;max-width: 0;overflow: hidden;text-align: left;background-color: #f0f8ff;}#sk-container-id-1 div.sk-toggleable__content pre {margin: 0.2em;color: black;border-radius: 0.25em;background-color: #f0f8ff;}#sk-container-id-1 input.sk-toggleable__control:checked~div.sk-toggleable__content {max-height: 200px;max-width: 100%;overflow: auto;}#sk-container-id-1 input.sk-toggleable__control:checked~label.sk-toggleable__label-arrow:before {content: \"▾\";}#sk-container-id-1 div.sk-estimator input.sk-toggleable__control:checked~label.sk-toggleable__label {background-color: #d4ebff;}#sk-container-id-1 div.sk-label input.sk-toggleable__control:checked~label.sk-toggleable__label {background-color: #d4ebff;}#sk-container-id-1 input.sk-hidden--visually {border: 0;clip: rect(1px 1px 1px 1px);clip: rect(1px, 1px, 1px, 1px);height: 1px;margin: -1px;overflow: hidden;padding: 0;position: absolute;width: 1px;}#sk-container-id-1 div.sk-estimator {font-family: monospace;background-color: #f0f8ff;border: 1px dotted black;border-radius: 0.25em;box-sizing: border-box;margin-bottom: 0.5em;}#sk-container-id-1 div.sk-estimator:hover {background-color: #d4ebff;}#sk-container-id-1 div.sk-parallel-item::after {content: \"\";width: 100%;border-bottom: 1px solid gray;flex-grow: 1;}#sk-container-id-1 div.sk-label:hover label.sk-toggleable__label {background-color: #d4ebff;}#sk-container-id-1 div.sk-serial::before {content: \"\";position: absolute;border-left: 1px solid gray;box-sizing: border-box;top: 0;bottom: 0;left: 50%;z-index: 0;}#sk-container-id-1 div.sk-serial {display: flex;flex-direction: column;align-items: center;background-color: white;padding-right: 0.2em;padding-left: 0.2em;position: relative;}#sk-container-id-1 div.sk-item {position: relative;z-index: 1;}#sk-container-id-1 div.sk-parallel {display: flex;align-items: stretch;justify-content: center;background-color: white;position: relative;}#sk-container-id-1 div.sk-item::before, #sk-container-id-1 div.sk-parallel-item::before {content: \"\";position: absolute;border-left: 1px solid gray;box-sizing: border-box;top: 0;bottom: 0;left: 50%;z-index: -1;}#sk-container-id-1 div.sk-parallel-item {display: flex;flex-direction: column;z-index: 1;position: relative;background-color: white;}#sk-container-id-1 div.sk-parallel-item:first-child::after {align-self: flex-end;width: 50%;}#sk-container-id-1 div.sk-parallel-item:last-child::after {align-self: flex-start;width: 50%;}#sk-container-id-1 div.sk-parallel-item:only-child::after {width: 0;}#sk-container-id-1 div.sk-dashed-wrapped {border: 1px dashed gray;margin: 0 0.4em 0.5em 0.4em;box-sizing: border-box;padding-bottom: 0.4em;background-color: white;}#sk-container-id-1 div.sk-label label {font-family: monospace;font-weight: bold;display: inline-block;line-height: 1.2em;}#sk-container-id-1 div.sk-label-container {text-align: center;}#sk-container-id-1 div.sk-container {/* jupyter's `normalize.less` sets `[hidden] { display: none; }` but bootstrap.min.css set `[hidden] { display: none !important; }` so we also need the `!important` here to be able to override the default hidden behavior on the sphinx rendered scikit-learn.org. See: https://github.com/scikit-learn/scikit-learn/issues/21755 */display: inline-block !important;position: relative;}#sk-container-id-1 div.sk-text-repr-fallback {display: none;}</style><div id=\"sk-container-id-1\" class=\"sk-top-container\"><div class=\"sk-text-repr-fallback\"><pre>StandardScaler()</pre><b>In a Jupyter environment, please rerun this cell to show the HTML representation or trust the notebook. <br />On GitHub, the HTML representation is unable to render, please try loading this page with nbviewer.org.</b></div><div class=\"sk-container\" hidden><div class=\"sk-item\"><div class=\"sk-estimator sk-toggleable\"><input class=\"sk-toggleable__control sk-hidden--visually\" id=\"sk-estimator-id-1\" type=\"checkbox\" checked><label for=\"sk-estimator-id-1\" class=\"sk-toggleable__label sk-toggleable__label-arrow\">StandardScaler</label><div class=\"sk-toggleable__content\"><pre>StandardScaler()</pre></div></div></div></div></div>"
            ]
          },
          "metadata": {},
          "execution_count": 13
        }
      ]
    },
    {
      "cell_type": "code",
      "source": [
        "x_train = scaler.transform(x_train)\n",
        "x_test = scaler.transform(x_test)"
      ],
      "metadata": {
        "id": "9pxkzB2VdWp0"
      },
      "execution_count": null,
      "outputs": []
    },
    {
      "cell_type": "markdown",
      "source": [
        "Preparing model"
      ],
      "metadata": {
        "id": "3PIfSIXRYcpH"
      }
    },
    {
      "cell_type": "code",
      "source": [
        "from keras.models import Sequential\n",
        "from keras.layers import Dense"
      ],
      "metadata": {
        "id": "A1P0AkP-dZok"
      },
      "execution_count": null,
      "outputs": []
    },
    {
      "cell_type": "code",
      "source": [
        "model = Sequential()"
      ],
      "metadata": {
        "id": "eS9Lt0Lgdc8G"
      },
      "execution_count": null,
      "outputs": []
    },
    {
      "cell_type": "code",
      "source": [
        "model.add(Dense(128,input_shape=(3,),activation='relu',name='input'))\n",
        "model.add(Dense(64,activation='relu',name='layer_1'))\n",
        "model.add(Dense(1,activation='linear',name='output'))\n",
        "model.compile(optimizer='adam', loss='mse', metrics=['mae'])\n",
        "model.summary()"
      ],
      "metadata": {
        "colab": {
          "base_uri": "https://localhost:8080/"
        },
        "id": "HBwOYqS0dc_u",
        "outputId": "37dec0ac-e728-4942-e49f-3d72fa4238d6"
      },
      "execution_count": null,
      "outputs": [
        {
          "output_type": "stream",
          "name": "stdout",
          "text": [
            "Model: \"sequential\"\n",
            "_________________________________________________________________\n",
            " Layer (type)                Output Shape              Param #   \n",
            "=================================================================\n",
            " input (Dense)               (None, 128)               512       \n",
            "                                                                 \n",
            " layer_1 (Dense)             (None, 64)                8256      \n",
            "                                                                 \n",
            " output (Dense)              (None, 1)                 65        \n",
            "                                                                 \n",
            "=================================================================\n",
            "Total params: 8,833\n",
            "Trainable params: 8,833\n",
            "Non-trainable params: 0\n",
            "_________________________________________________________________\n"
          ]
        }
      ]
    },
    {
      "cell_type": "code",
      "source": [
        "model.fit(x_train,y_train,epochs=100,validation_split=0.05)"
      ],
      "metadata": {
        "colab": {
          "base_uri": "https://localhost:8080/"
        },
        "id": "wsk219UOddFN",
        "outputId": "33e42a9d-532e-4b6c-fd17-0a5c22a38732"
      },
      "execution_count": null,
      "outputs": [
        {
          "output_type": "stream",
          "name": "stdout",
          "text": [
            "Epoch 1/100\n",
            "12/12 [==============================] - 2s 22ms/step - loss: 535.4938 - mae: 21.4732 - val_loss: 700.2762 - val_mae: 23.7748\n",
            "Epoch 2/100\n",
            "12/12 [==============================] - 0s 5ms/step - loss: 495.5974 - mae: 20.6111 - val_loss: 651.7366 - val_mae: 22.7221\n",
            "Epoch 3/100\n",
            "12/12 [==============================] - 0s 6ms/step - loss: 444.0857 - mae: 19.4378 - val_loss: 585.2563 - val_mae: 21.2289\n",
            "Epoch 4/100\n",
            "12/12 [==============================] - 0s 8ms/step - loss: 373.4228 - mae: 17.7243 - val_loss: 497.7861 - val_mae: 19.1067\n",
            "Epoch 5/100\n",
            "12/12 [==============================] - 0s 6ms/step - loss: 283.2286 - mae: 15.2970 - val_loss: 394.1114 - val_mae: 16.5818\n",
            "Epoch 6/100\n",
            "12/12 [==============================] - 0s 5ms/step - loss: 182.8672 - mae: 12.2520 - val_loss: 289.5487 - val_mae: 13.6368\n",
            "Epoch 7/100\n",
            "12/12 [==============================] - 0s 5ms/step - loss: 102.5780 - mae: 8.9411 - val_loss: 203.6315 - val_mae: 11.1428\n",
            "Epoch 8/100\n",
            "12/12 [==============================] - 0s 5ms/step - loss: 56.9788 - mae: 6.2615 - val_loss: 152.7215 - val_mae: 9.2727\n",
            "Epoch 9/100\n",
            "12/12 [==============================] - 0s 5ms/step - loss: 41.3335 - mae: 5.0998 - val_loss: 127.6694 - val_mae: 8.0459\n",
            "Epoch 10/100\n",
            "12/12 [==============================] - 0s 6ms/step - loss: 36.0377 - mae: 4.5870 - val_loss: 111.1485 - val_mae: 7.4016\n",
            "Epoch 11/100\n",
            "12/12 [==============================] - 0s 5ms/step - loss: 30.7089 - mae: 4.1034 - val_loss: 103.4466 - val_mae: 7.1442\n",
            "Epoch 12/100\n",
            "12/12 [==============================] - 0s 5ms/step - loss: 27.8007 - mae: 3.8600 - val_loss: 98.0801 - val_mae: 6.9463\n",
            "Epoch 13/100\n",
            "12/12 [==============================] - 0s 5ms/step - loss: 25.9461 - mae: 3.7318 - val_loss: 94.8813 - val_mae: 6.8249\n",
            "Epoch 14/100\n",
            "12/12 [==============================] - 0s 5ms/step - loss: 24.5993 - mae: 3.6100 - val_loss: 91.6162 - val_mae: 6.7464\n",
            "Epoch 15/100\n",
            "12/12 [==============================] - 0s 4ms/step - loss: 23.7546 - mae: 3.5327 - val_loss: 88.7032 - val_mae: 6.6526\n",
            "Epoch 16/100\n",
            "12/12 [==============================] - 0s 5ms/step - loss: 23.0415 - mae: 3.4803 - val_loss: 88.6137 - val_mae: 6.6260\n",
            "Epoch 17/100\n",
            "12/12 [==============================] - 0s 5ms/step - loss: 22.3726 - mae: 3.4425 - val_loss: 87.6684 - val_mae: 6.5761\n",
            "Epoch 18/100\n",
            "12/12 [==============================] - 0s 5ms/step - loss: 21.8690 - mae: 3.4067 - val_loss: 88.1524 - val_mae: 6.5909\n",
            "Epoch 19/100\n",
            "12/12 [==============================] - 0s 6ms/step - loss: 21.3941 - mae: 3.3788 - val_loss: 87.8620 - val_mae: 6.5629\n",
            "Epoch 20/100\n",
            "12/12 [==============================] - 0s 10ms/step - loss: 20.9623 - mae: 3.3422 - val_loss: 87.1807 - val_mae: 6.5074\n",
            "Epoch 21/100\n",
            "12/12 [==============================] - 0s 8ms/step - loss: 20.4813 - mae: 3.3101 - val_loss: 87.6839 - val_mae: 6.4661\n",
            "Epoch 22/100\n",
            "12/12 [==============================] - 0s 7ms/step - loss: 20.0172 - mae: 3.2665 - val_loss: 85.8799 - val_mae: 6.4080\n",
            "Epoch 23/100\n",
            "12/12 [==============================] - 0s 8ms/step - loss: 19.6189 - mae: 3.2279 - val_loss: 84.8544 - val_mae: 6.3423\n",
            "Epoch 24/100\n",
            "12/12 [==============================] - 0s 9ms/step - loss: 19.1610 - mae: 3.1829 - val_loss: 86.4690 - val_mae: 6.3410\n",
            "Epoch 25/100\n",
            "12/12 [==============================] - 0s 7ms/step - loss: 18.9044 - mae: 3.1434 - val_loss: 86.4586 - val_mae: 6.3005\n",
            "Epoch 26/100\n",
            "12/12 [==============================] - 0s 7ms/step - loss: 18.4703 - mae: 3.1044 - val_loss: 85.1704 - val_mae: 6.1935\n",
            "Epoch 27/100\n",
            "12/12 [==============================] - 0s 7ms/step - loss: 18.0630 - mae: 3.0758 - val_loss: 84.7369 - val_mae: 6.1306\n",
            "Epoch 28/100\n",
            "12/12 [==============================] - 0s 7ms/step - loss: 17.7465 - mae: 3.0578 - val_loss: 83.6882 - val_mae: 6.0560\n",
            "Epoch 29/100\n",
            "12/12 [==============================] - 0s 7ms/step - loss: 17.5043 - mae: 3.0365 - val_loss: 85.6382 - val_mae: 6.0549\n",
            "Epoch 30/100\n",
            "12/12 [==============================] - 0s 9ms/step - loss: 17.1698 - mae: 3.0076 - val_loss: 84.5922 - val_mae: 6.0077\n",
            "Epoch 31/100\n",
            "12/12 [==============================] - 0s 10ms/step - loss: 16.9230 - mae: 2.9898 - val_loss: 83.9842 - val_mae: 5.9675\n",
            "Epoch 32/100\n",
            "12/12 [==============================] - 0s 7ms/step - loss: 16.6831 - mae: 2.9678 - val_loss: 82.0153 - val_mae: 5.8874\n",
            "Epoch 33/100\n",
            "12/12 [==============================] - 0s 7ms/step - loss: 16.4587 - mae: 2.9534 - val_loss: 83.2220 - val_mae: 5.8899\n",
            "Epoch 34/100\n",
            "12/12 [==============================] - 0s 7ms/step - loss: 16.2017 - mae: 2.9193 - val_loss: 83.6467 - val_mae: 5.8837\n",
            "Epoch 35/100\n",
            "12/12 [==============================] - 0s 7ms/step - loss: 16.0014 - mae: 2.9000 - val_loss: 82.6979 - val_mae: 5.8287\n",
            "Epoch 36/100\n",
            "12/12 [==============================] - 0s 8ms/step - loss: 15.9149 - mae: 2.8804 - val_loss: 82.4305 - val_mae: 5.8025\n",
            "Epoch 37/100\n",
            "12/12 [==============================] - 0s 7ms/step - loss: 15.6000 - mae: 2.8546 - val_loss: 81.8769 - val_mae: 5.7566\n",
            "Epoch 38/100\n",
            "12/12 [==============================] - 0s 6ms/step - loss: 15.4547 - mae: 2.8537 - val_loss: 81.4504 - val_mae: 5.7212\n",
            "Epoch 39/100\n",
            "12/12 [==============================] - 0s 6ms/step - loss: 15.3734 - mae: 2.8557 - val_loss: 82.3998 - val_mae: 5.7279\n",
            "Epoch 40/100\n",
            "12/12 [==============================] - 0s 8ms/step - loss: 15.1631 - mae: 2.8411 - val_loss: 81.4279 - val_mae: 5.6490\n",
            "Epoch 41/100\n",
            "12/12 [==============================] - 0s 7ms/step - loss: 15.0299 - mae: 2.8226 - val_loss: 81.8626 - val_mae: 5.6590\n",
            "Epoch 42/100\n",
            "12/12 [==============================] - 0s 8ms/step - loss: 14.9547 - mae: 2.8030 - val_loss: 80.6306 - val_mae: 5.6067\n",
            "Epoch 43/100\n",
            "12/12 [==============================] - 0s 7ms/step - loss: 14.9230 - mae: 2.7827 - val_loss: 83.2172 - val_mae: 5.6751\n",
            "Epoch 44/100\n",
            "12/12 [==============================] - 0s 6ms/step - loss: 14.7064 - mae: 2.7549 - val_loss: 81.5170 - val_mae: 5.6098\n",
            "Epoch 45/100\n",
            "12/12 [==============================] - 0s 9ms/step - loss: 14.5777 - mae: 2.7519 - val_loss: 80.7658 - val_mae: 5.5715\n",
            "Epoch 46/100\n",
            "12/12 [==============================] - 0s 8ms/step - loss: 14.4983 - mae: 2.7644 - val_loss: 80.3437 - val_mae: 5.5492\n",
            "Epoch 47/100\n",
            "12/12 [==============================] - 0s 9ms/step - loss: 14.3248 - mae: 2.7487 - val_loss: 82.0718 - val_mae: 5.5873\n",
            "Epoch 48/100\n",
            "12/12 [==============================] - 0s 9ms/step - loss: 14.2407 - mae: 2.7266 - val_loss: 82.5374 - val_mae: 5.5863\n",
            "Epoch 49/100\n",
            "12/12 [==============================] - 0s 7ms/step - loss: 14.0939 - mae: 2.7099 - val_loss: 80.9341 - val_mae: 5.5287\n",
            "Epoch 50/100\n",
            "12/12 [==============================] - 0s 9ms/step - loss: 14.0073 - mae: 2.7155 - val_loss: 80.0895 - val_mae: 5.4901\n",
            "Epoch 51/100\n",
            "12/12 [==============================] - 0s 6ms/step - loss: 13.9128 - mae: 2.6972 - val_loss: 80.0769 - val_mae: 5.4792\n",
            "Epoch 52/100\n",
            "12/12 [==============================] - 0s 5ms/step - loss: 13.8081 - mae: 2.6916 - val_loss: 79.8892 - val_mae: 5.4560\n",
            "Epoch 53/100\n",
            "12/12 [==============================] - 0s 5ms/step - loss: 13.7269 - mae: 2.6732 - val_loss: 81.6091 - val_mae: 5.4764\n",
            "Epoch 54/100\n",
            "12/12 [==============================] - 0s 6ms/step - loss: 13.7807 - mae: 2.6913 - val_loss: 83.7377 - val_mae: 5.5222\n",
            "Epoch 55/100\n",
            "12/12 [==============================] - 0s 5ms/step - loss: 13.5695 - mae: 2.6599 - val_loss: 81.3233 - val_mae: 5.4650\n",
            "Epoch 56/100\n",
            "12/12 [==============================] - 0s 6ms/step - loss: 13.5255 - mae: 2.6660 - val_loss: 80.1727 - val_mae: 5.4190\n",
            "Epoch 57/100\n",
            "12/12 [==============================] - 0s 5ms/step - loss: 13.3695 - mae: 2.6429 - val_loss: 80.9378 - val_mae: 5.4222\n",
            "Epoch 58/100\n",
            "12/12 [==============================] - 0s 5ms/step - loss: 13.3087 - mae: 2.6191 - val_loss: 81.3937 - val_mae: 5.4080\n",
            "Epoch 59/100\n",
            "12/12 [==============================] - 0s 5ms/step - loss: 13.2932 - mae: 2.6243 - val_loss: 82.0204 - val_mae: 5.4274\n",
            "Epoch 60/100\n",
            "12/12 [==============================] - 0s 5ms/step - loss: 13.0740 - mae: 2.6023 - val_loss: 80.0933 - val_mae: 5.3552\n",
            "Epoch 61/100\n",
            "12/12 [==============================] - 0s 5ms/step - loss: 13.0402 - mae: 2.5896 - val_loss: 80.0086 - val_mae: 5.3436\n",
            "Epoch 62/100\n",
            "12/12 [==============================] - 0s 5ms/step - loss: 12.9285 - mae: 2.5907 - val_loss: 80.7866 - val_mae: 5.3566\n",
            "Epoch 63/100\n",
            "12/12 [==============================] - 0s 5ms/step - loss: 12.9490 - mae: 2.5953 - val_loss: 81.9203 - val_mae: 5.3681\n",
            "Epoch 64/100\n",
            "12/12 [==============================] - 0s 5ms/step - loss: 12.8048 - mae: 2.5857 - val_loss: 79.3548 - val_mae: 5.2973\n",
            "Epoch 65/100\n",
            "12/12 [==============================] - 0s 5ms/step - loss: 12.7923 - mae: 2.5868 - val_loss: 78.8251 - val_mae: 5.2715\n",
            "Epoch 66/100\n",
            "12/12 [==============================] - 0s 5ms/step - loss: 12.5200 - mae: 2.5525 - val_loss: 81.8557 - val_mae: 5.3215\n",
            "Epoch 67/100\n",
            "12/12 [==============================] - 0s 5ms/step - loss: 12.4545 - mae: 2.5351 - val_loss: 79.9666 - val_mae: 5.2615\n",
            "Epoch 68/100\n",
            "12/12 [==============================] - 0s 7ms/step - loss: 12.3812 - mae: 2.5267 - val_loss: 79.2624 - val_mae: 5.2226\n",
            "Epoch 69/100\n",
            "12/12 [==============================] - 0s 6ms/step - loss: 12.3011 - mae: 2.5197 - val_loss: 79.5071 - val_mae: 5.1895\n",
            "Epoch 70/100\n",
            "12/12 [==============================] - 0s 5ms/step - loss: 12.2474 - mae: 2.5210 - val_loss: 80.9234 - val_mae: 5.2298\n",
            "Epoch 71/100\n",
            "12/12 [==============================] - 0s 5ms/step - loss: 12.1218 - mae: 2.5086 - val_loss: 81.9008 - val_mae: 5.2425\n",
            "Epoch 72/100\n",
            "12/12 [==============================] - 0s 5ms/step - loss: 11.9583 - mae: 2.4957 - val_loss: 80.5526 - val_mae: 5.2075\n",
            "Epoch 73/100\n",
            "12/12 [==============================] - 0s 5ms/step - loss: 12.0790 - mae: 2.5076 - val_loss: 78.8380 - val_mae: 5.1338\n",
            "Epoch 74/100\n",
            "12/12 [==============================] - 0s 7ms/step - loss: 11.9130 - mae: 2.4917 - val_loss: 82.3630 - val_mae: 5.2183\n",
            "Epoch 75/100\n",
            "12/12 [==============================] - 0s 6ms/step - loss: 11.8547 - mae: 2.4748 - val_loss: 80.6874 - val_mae: 5.1695\n",
            "Epoch 76/100\n",
            "12/12 [==============================] - 0s 5ms/step - loss: 11.6561 - mae: 2.4520 - val_loss: 81.9456 - val_mae: 5.1608\n",
            "Epoch 77/100\n",
            "12/12 [==============================] - 0s 7ms/step - loss: 11.8945 - mae: 2.5075 - val_loss: 82.2989 - val_mae: 5.1855\n",
            "Epoch 78/100\n",
            "12/12 [==============================] - 0s 5ms/step - loss: 11.9290 - mae: 2.5098 - val_loss: 77.8606 - val_mae: 5.0423\n",
            "Epoch 79/100\n",
            "12/12 [==============================] - 0s 6ms/step - loss: 11.7411 - mae: 2.4646 - val_loss: 83.5790 - val_mae: 5.2470\n",
            "Epoch 80/100\n",
            "12/12 [==============================] - 0s 5ms/step - loss: 11.4782 - mae: 2.4343 - val_loss: 80.1963 - val_mae: 5.1283\n",
            "Epoch 81/100\n",
            "12/12 [==============================] - 0s 5ms/step - loss: 11.4114 - mae: 2.4423 - val_loss: 80.3467 - val_mae: 5.0933\n",
            "Epoch 82/100\n",
            "12/12 [==============================] - 0s 5ms/step - loss: 11.2199 - mae: 2.4104 - val_loss: 82.2357 - val_mae: 5.1585\n",
            "Epoch 83/100\n",
            "12/12 [==============================] - 0s 5ms/step - loss: 11.2550 - mae: 2.4218 - val_loss: 81.4944 - val_mae: 5.1134\n",
            "Epoch 84/100\n",
            "12/12 [==============================] - 0s 5ms/step - loss: 11.1655 - mae: 2.4045 - val_loss: 83.3794 - val_mae: 5.1264\n",
            "Epoch 85/100\n",
            "12/12 [==============================] - 0s 5ms/step - loss: 11.1130 - mae: 2.3995 - val_loss: 82.3152 - val_mae: 5.1097\n",
            "Epoch 86/100\n",
            "12/12 [==============================] - 0s 5ms/step - loss: 11.0223 - mae: 2.3934 - val_loss: 82.1055 - val_mae: 5.1346\n",
            "Epoch 87/100\n",
            "12/12 [==============================] - 0s 8ms/step - loss: 11.0043 - mae: 2.4004 - val_loss: 81.0815 - val_mae: 5.1482\n",
            "Epoch 88/100\n",
            "12/12 [==============================] - 0s 5ms/step - loss: 10.9031 - mae: 2.3904 - val_loss: 80.3401 - val_mae: 5.1030\n",
            "Epoch 89/100\n",
            "12/12 [==============================] - 0s 5ms/step - loss: 10.9507 - mae: 2.4045 - val_loss: 82.4017 - val_mae: 5.1631\n",
            "Epoch 90/100\n",
            "12/12 [==============================] - 0s 5ms/step - loss: 10.8046 - mae: 2.3785 - val_loss: 80.3652 - val_mae: 5.0880\n",
            "Epoch 91/100\n",
            "12/12 [==============================] - 0s 5ms/step - loss: 10.9949 - mae: 2.3948 - val_loss: 80.3842 - val_mae: 5.0826\n",
            "Epoch 92/100\n",
            "12/12 [==============================] - 0s 5ms/step - loss: 10.7975 - mae: 2.3916 - val_loss: 84.6889 - val_mae: 5.2539\n",
            "Epoch 93/100\n",
            "12/12 [==============================] - 0s 5ms/step - loss: 10.7655 - mae: 2.3969 - val_loss: 78.7027 - val_mae: 5.0692\n",
            "Epoch 94/100\n",
            "12/12 [==============================] - 0s 5ms/step - loss: 10.7580 - mae: 2.3956 - val_loss: 82.6157 - val_mae: 5.1844\n",
            "Epoch 95/100\n",
            "12/12 [==============================] - 0s 5ms/step - loss: 10.8937 - mae: 2.4271 - val_loss: 86.5459 - val_mae: 5.2430\n",
            "Epoch 96/100\n",
            "12/12 [==============================] - 0s 5ms/step - loss: 10.5678 - mae: 2.3805 - val_loss: 81.3491 - val_mae: 5.0491\n",
            "Epoch 97/100\n",
            "12/12 [==============================] - 0s 5ms/step - loss: 10.6569 - mae: 2.3654 - val_loss: 81.7849 - val_mae: 5.1039\n",
            "Epoch 98/100\n",
            "12/12 [==============================] - 0s 6ms/step - loss: 10.6149 - mae: 2.3614 - val_loss: 82.7048 - val_mae: 5.1643\n",
            "Epoch 99/100\n",
            "12/12 [==============================] - 0s 5ms/step - loss: 10.3750 - mae: 2.3357 - val_loss: 81.8178 - val_mae: 5.0599\n",
            "Epoch 100/100\n",
            "12/12 [==============================] - 0s 6ms/step - loss: 10.7004 - mae: 2.3769 - val_loss: 83.3169 - val_mae: 5.1349\n"
          ]
        },
        {
          "output_type": "execute_result",
          "data": {
            "text/plain": [
              "<keras.callbacks.History at 0x7ff01874beb0>"
            ]
          },
          "metadata": {},
          "execution_count": 18
        }
      ]
    },
    {
      "cell_type": "code",
      "source": [
        "output = model.evaluate(x_test,y_test)"
      ],
      "metadata": {
        "colab": {
          "base_uri": "https://localhost:8080/"
        },
        "id": "d7Ssd9RzddMm",
        "outputId": "312fe6c8-1ff0-413a-8830-464a218b3583"
      },
      "execution_count": null,
      "outputs": [
        {
          "output_type": "stream",
          "name": "stdout",
          "text": [
            "4/4 [==============================] - 0s 4ms/step - loss: 22.7514 - mae: 3.0880\n"
          ]
        }
      ]
    },
    {
      "cell_type": "code",
      "source": [
        "print(f\"Mean Squared Error: {output[0]}\"\n",
        "      ,f\"Mean Absolute Error: {output[1]}\",sep=\"\\n\")"
      ],
      "metadata": {
        "id": "YewvcbBadpIq",
        "outputId": "ba6ad70e-febd-4cc5-a810-dc099c079799",
        "colab": {
          "base_uri": "https://localhost:8080/"
        }
      },
      "execution_count": null,
      "outputs": [
        {
          "output_type": "stream",
          "name": "stdout",
          "text": [
            "Mean Squared Error: 22.751373291015625\n",
            "Mean Absolute Error: 3.087960720062256\n"
          ]
        }
      ]
    },
    {
      "cell_type": "code",
      "source": [
        "y_pred = model.predict(x=x_test)"
      ],
      "metadata": {
        "id": "ykGrlE5bdpMI",
        "outputId": "b3b0ee35-f414-4a01-9249-ea9911d0df1a",
        "colab": {
          "base_uri": "https://localhost:8080/"
        }
      },
      "execution_count": null,
      "outputs": [
        {
          "output_type": "stream",
          "name": "stdout",
          "text": [
            "4/4 [==============================] - 1s 4ms/step\n"
          ]
        }
      ]
    },
    {
      "cell_type": "code",
      "source": [
        "print(*zip(y_pred,y_test))"
      ],
      "metadata": {
        "id": "DSFobFtLdpUK",
        "outputId": "2baaa50d-9b61-41a8-a937-95f6ecc7f503",
        "colab": {
          "base_uri": "https://localhost:8080/"
        }
      },
      "execution_count": null,
      "outputs": [
        {
          "output_type": "stream",
          "name": "stdout",
          "text": [
            "(array([25.06732], dtype=float32), 28.4) (array([30.619665], dtype=float32), 31.1) (array([25.781841], dtype=float32), 23.5) (array([27.321184], dtype=float32), 26.6) (array([18.835583], dtype=float32), 19.6) (array([16.256245], dtype=float32), 14.3) (array([41.88888], dtype=float32), 50.0) (array([14.503955], dtype=float32), 14.3) (array([19.919819], dtype=float32), 20.7) (array([43.151936], dtype=float32), 37.6) (array([17.448763], dtype=float32), 20.4) (array([26.923353], dtype=float32), 27.5) (array([22.587002], dtype=float32), 36.2) (array([32.293335], dtype=float32), 32.0) (array([31.08009], dtype=float32), 33.1) (array([51.735146], dtype=float32), 48.8) (array([25.865332], dtype=float32), 24.6) (array([19.335522], dtype=float32), 26.4) (array([21.177223], dtype=float32), 23.2) (array([20.151278], dtype=float32), 17.0) (array([33.28716], dtype=float32), 41.3) (array([15.221495], dtype=float32), 14.9) (array([22.536924], dtype=float32), 18.5) (array([24.965187], dtype=float32), 25.0) (array([36.860893], dtype=float32), 36.4) (array([20.851986], dtype=float32), 19.5) (array([18.859081], dtype=float32), 27.1) (array([16.378023], dtype=float32), 14.9) (array([42.779488], dtype=float32), 46.0) (array([10.933625], dtype=float32), 17.9) (array([34.733727], dtype=float32), 30.3) (array([32.330204], dtype=float32), 31.6) (array([26.63436], dtype=float32), 23.1) (array([24.145813], dtype=float32), 24.7) (array([14.567384], dtype=float32), 16.7) (array([19.703526], dtype=float32), 18.3) (array([8.541468], dtype=float32), 8.4) (array([31.935366], dtype=float32), 37.3) (array([24.831612], dtype=float32), 22.1) (array([24.609867], dtype=float32), 22.0) (array([39.081863], dtype=float32), 46.7) (array([26.4772], dtype=float32), 30.1) (array([13.31519], dtype=float32), 12.1) (array([29.010174], dtype=float32), 29.1) (array([17.47433], dtype=float32), 16.6) (array([27.48932], dtype=float32), 23.9) (array([17.642908], dtype=float32), 19.9) (array([18.341835], dtype=float32), 21.4) (array([44.442123], dtype=float32), 45.4) (array([16.100685], dtype=float32), 15.6) (array([20.418928], dtype=float32), 22.7) (array([13.996999], dtype=float32), 12.5) (array([20.4137], dtype=float32), 24.3) (array([39.33932], dtype=float32), 43.8) (array([23.568712], dtype=float32), 22.0) (array([34.777706], dtype=float32), 33.8) (array([19.393642], dtype=float32), 19.3) (array([18.76445], dtype=float32), 22.6) (array([21.252918], dtype=float32), 16.1) (array([21.213226], dtype=float32), 15.0) (array([18.147154], dtype=float32), 19.6) (array([21.220203], dtype=float32), 21.2) (array([51.56745], dtype=float32), 50.0) (array([55.918808], dtype=float32), 50.0) (array([27.58551], dtype=float32), 29.4) (array([14.704121], dtype=float32), 17.8) (array([24.703232], dtype=float32), 22.8) (array([11.774613], dtype=float32), 8.8) (array([27.554693], dtype=float32), 32.5) (array([39.527954], dtype=float32), 42.8) (array([16.332012], dtype=float32), 12.6) (array([28.171587], dtype=float32), 28.6) (array([17.411005], dtype=float32), 19.1) (array([21.465363], dtype=float32), 50.0) (array([20.919449], dtype=float32), 27.5) (array([12.087973], dtype=float32), 23.7) (array([48.22718], dtype=float32), 50.0) (array([9.698008], dtype=float32), 7.2) (array([19.794851], dtype=float32), 18.7) (array([32.62021], dtype=float32), 37.0) (array([20.228558], dtype=float32), 22.9) (array([25.26473], dtype=float32), 22.9) (array([19.523754], dtype=float32), 17.1) (array([24.716164], dtype=float32), 22.0) (array([31.36437], dtype=float32), 23.6) (array([25.024109], dtype=float32), 23.9) (array([25.966652], dtype=float32), 27.1) (array([34.29579], dtype=float32), 29.0) (array([24.0093], dtype=float32), 22.2) (array([11.014986], dtype=float32), 7.0) (array([23.112364], dtype=float32), 20.7) (array([20.764036], dtype=float32), 18.5) (array([24.124508], dtype=float32), 21.6) (array([24.50772], dtype=float32), 23.0) (array([18.615982], dtype=float32), 16.0) (array([19.794645], dtype=float32), 15.0) (array([25.781076], dtype=float32), 23.9) (array([19.479288], dtype=float32), 24.4) (array([20.996304], dtype=float32), 22.6) (array([18.178005], dtype=float32), 19.8) (array([21.988092], dtype=float32), 22.2) (array([19.267368], dtype=float32), 18.6) (array([19.46519], dtype=float32), 19.7) (array([23.961407], dtype=float32), 23.1) (array([13.3329735], dtype=float32), 13.5) (array([21.13166], dtype=float32), 21.2) (array([18.518036], dtype=float32), 23.1) (array([15.254864], dtype=float32), 13.6) (array([28.619186], dtype=float32), 22.8) (array([22.980644], dtype=float32), 18.2) (array([11.398164], dtype=float32), 13.1) (array([17.493559], dtype=float32), 23.2) (array([25.046104], dtype=float32), 22.8) (array([25.046085], dtype=float32), 25.1) (array([21.751514], dtype=float32), 18.9) (array([13.003504], dtype=float32), 10.9) (array([14.156221], dtype=float32), 19.3) (array([20.554296], dtype=float32), 17.4) (array([18.07946], dtype=float32), 15.6) (array([19.795538], dtype=float32), 20.6) (array([29.403507], dtype=float32), 50.0) (array([35.603382], dtype=float32), 32.7) (array([20.94756], dtype=float32), 21.8) (array([15.524408], dtype=float32), 13.4) (array([17.203278], dtype=float32), 16.6) (array([23.63789], dtype=float32), 23.6) (array([12.420309], dtype=float32), 11.0)\n"
          ]
        }
      ]
    },
    {
      "cell_type": "code",
      "source": [],
      "metadata": {
        "id": "XFMt2odYdpXj"
      },
      "execution_count": null,
      "outputs": []
    }
  ]
}