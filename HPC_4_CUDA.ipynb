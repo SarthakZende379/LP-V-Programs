{
  "nbformat": 4,
  "nbformat_minor": 0,
  "metadata": {
    "colab": {
      "provenance": []
    },
    "kernelspec": {
      "name": "python3",
      "display_name": "Python 3"
    },
    "language_info": {
      "name": "python"
    }
  },
  "cells": [
    {
      "cell_type": "code",
      "execution_count": null,
      "metadata": {
        "colab": {
          "base_uri": "https://localhost:8080/"
        },
        "id": "JANPiC5OU8XC",
        "outputId": "ca61ed79-8251-43e6-9bc0-369d11161e79"
      },
      "outputs": [
        {
          "output_type": "stream",
          "name": "stdout",
          "text": [
            "nvcc: NVIDIA (R) Cuda compiler driver\n",
            "Copyright (c) 2005-2022 NVIDIA Corporation\n",
            "Built on Wed_Sep_21_10:33:58_PDT_2022\n",
            "Cuda compilation tools, release 11.8, V11.8.89\n",
            "Build cuda_11.8.r11.8/compiler.31833905_0\n"
          ]
        }
      ],
      "source": [
        "!/usr/local/cuda/bin/nvcc --version"
      ]
    },
    {
      "cell_type": "code",
      "source": [
        "!pip install git+https://github.com/andreinechaev/nvcc4jupyter.git"
      ],
      "metadata": {
        "colab": {
          "base_uri": "https://localhost:8080/"
        },
        "id": "uRlrUgkPVTAX",
        "outputId": "7e67497b-bb31-4522-fb3a-d80ed98fe4b5"
      },
      "execution_count": null,
      "outputs": [
        {
          "output_type": "stream",
          "name": "stdout",
          "text": [
            "Looking in indexes: https://pypi.org/simple, https://us-python.pkg.dev/colab-wheels/public/simple/\n",
            "Collecting git+https://github.com/andreinechaev/nvcc4jupyter.git\n",
            "  Cloning https://github.com/andreinechaev/nvcc4jupyter.git to /tmp/pip-req-build-g24_h7sk\n",
            "  Running command git clone --filter=blob:none --quiet https://github.com/andreinechaev/nvcc4jupyter.git /tmp/pip-req-build-g24_h7sk\n",
            "  Resolved https://github.com/andreinechaev/nvcc4jupyter.git to commit aac710a35f52bb78ab34d2e52517237941399eff\n",
            "  Preparing metadata (setup.py) ... \u001b[?25l\u001b[?25hdone\n",
            "Building wheels for collected packages: NVCCPlugin\n",
            "  Building wheel for NVCCPlugin (setup.py) ... \u001b[?25l\u001b[?25hdone\n",
            "  Created wheel for NVCCPlugin: filename=NVCCPlugin-0.0.2-py3-none-any.whl size=4287 sha256=786ae1d88bca675534510e052213c966d30ca2eb2e8b6c1b5b7be681bb0d1cc6\n",
            "  Stored in directory: /tmp/pip-ephem-wheel-cache-o_6osx1t/wheels/a8/b9/18/23f8ef71ceb0f63297dd1903aedd067e6243a68ea756d6feea\n",
            "Successfully built NVCCPlugin\n",
            "Installing collected packages: NVCCPlugin\n",
            "Successfully installed NVCCPlugin-0.0.2\n"
          ]
        }
      ]
    },
    {
      "cell_type": "code",
      "source": [
        "%load_ext nvcc_plugin"
      ],
      "metadata": {
        "colab": {
          "base_uri": "https://localhost:8080/"
        },
        "id": "g935wyr-VXJL",
        "outputId": "fad7ba10-f015-4c9b-bf7b-baeb99560981"
      },
      "execution_count": null,
      "outputs": [
        {
          "output_type": "stream",
          "name": "stdout",
          "text": [
            "created output directory at /content/src\n",
            "Out bin /content/result.out\n"
          ]
        }
      ]
    },
    {
      "cell_type": "code",
      "source": [
        "%%cuda --name vector_add.cu\n",
        "#include <cuda_runtime.h>\n",
        "#include <iostream>\n",
        "\n",
        "using namespace std;\n",
        "\n",
        "void fill_array(int* arr, int size) {\n",
        "    for (int i = 0; i < size; i++) {\n",
        "        arr[i] = rand() % 100;\n",
        "    }\n",
        "}\n",
        "\n",
        "void add_cpu(int* arr1, int* arr2, int* result, int size) {\n",
        "    for (int i = 0; i < size; i++) {\n",
        "        result[i] = arr1[i] + arr2[i];\n",
        "    }\n",
        "}\n",
        "\n",
        "void print_matrix(int* arr, int size) {\n",
        "    for (int i = 0; i < size; i++) {\n",
        "        cout << arr[i] << \" \";\n",
        "    }\n",
        "    cout << endl;\n",
        "}\n",
        "\n",
        "__global__ void add(int* arr1, int* arr2, int* arr3, int size) {\n",
        "    int block_id = blockIdx.x;\n",
        "    if (block_id < size) {\n",
        "        arr3[block_id] = arr1[block_id] + arr2[block_id];\n",
        "    }\n",
        "}\n",
        "\n",
        "int main() {\n",
        "    int* arr1_cpu, * arr2_cpu, * result_cpu;\n",
        "    int size;\n",
        "    cout << \"Enter size of vector: \";\n",
        "    cin >> size;\n",
        "\n",
        "    arr1_cpu = new int[size];\n",
        "    arr2_cpu = new int[size];\n",
        "    result_cpu = new int[size];\n",
        "\n",
        "    fill_array(arr1_cpu, size);\n",
        "    cout << \"Array 1: \";\n",
        "    print_matrix(arr1_cpu, size);\n",
        "    fill_array(arr2_cpu, size);\n",
        "    cout << \"Array 2: \";\n",
        "    print_matrix(arr2_cpu, size);\n",
        "\n",
        "    int* arr1_gpu, * arr2_gpu, * result_gpu;\n",
        "\n",
        "    cudaMallocManaged(&arr1_gpu, size * sizeof(int));\n",
        "    cudaMallocManaged(&arr2_gpu, size * sizeof(int));\n",
        "    cudaMallocManaged(&result_gpu, size * sizeof(int));\n",
        "\n",
        "    cudaMemcpy(arr1_gpu, arr1_cpu, size * sizeof(int), cudaMemcpyHostToDevice);\n",
        "    cudaMemcpy(arr2_gpu, arr2_cpu, size * sizeof(int), cudaMemcpyHostToDevice);\n",
        "\n",
        "    dim3 blockSize(256);\n",
        "    dim3 gridSize((size + blockSize.x - 1) / blockSize.x);\n",
        "\n",
        "    add<<<gridSize, blockSize>>>(arr1_gpu, arr2_gpu, result_gpu, size);\n",
        "\n",
        "    cudaMemcpy(result_cpu, result_gpu, size * sizeof(int), cudaMemcpyDeviceToHost);\n",
        "    cout << \"GPU result:\\n\";\n",
        "    print_matrix(result_cpu, size);\n",
        "\n",
        "    delete[] arr1_cpu;\n",
        "    delete[] arr2_cpu;\n",
        "    delete[] result_cpu;\n",
        "    cudaFree(arr1_gpu);\n",
        "    cudaFree(arr2_gpu);\n",
        "    cudaFree(result_gpu);\n",
        "\n",
        "    return 0;\n",
        "}\n"
      ],
      "metadata": {
        "colab": {
          "base_uri": "https://localhost:8080/",
          "height": 36
        },
        "id": "SsqUtZ-NVXMG",
        "outputId": "fe80625e-eb78-4c03-a8db-7076362708c9"
      },
      "execution_count": null,
      "outputs": [
        {
          "output_type": "execute_result",
          "data": {
            "text/plain": [
              "'File written in /content/src/vector_add.cu'"
            ],
            "application/vnd.google.colaboratory.intrinsic+json": {
              "type": "string"
            }
          },
          "metadata": {},
          "execution_count": 20
        }
      ]
    },
    {
      "cell_type": "code",
      "source": [
        "!nvcc /content/src/vector_add.cu -o /content/src/vector_add\n"
      ],
      "metadata": {
        "id": "WtGrWMnWVXOu"
      },
      "execution_count": null,
      "outputs": []
    },
    {
      "cell_type": "code",
      "source": [
        "!/content/src/vector_add"
      ],
      "metadata": {
        "colab": {
          "base_uri": "https://localhost:8080/"
        },
        "id": "tfh_KM8rVXRw",
        "outputId": "7bf875a1-948d-4a24-f00c-4ed6dc39a602"
      },
      "execution_count": null,
      "outputs": [
        {
          "output_type": "stream",
          "name": "stdout",
          "text": [
            "Enter size of vector: 250\n",
            "Array 1: 83 86 77 15 93 35 86 92 49 21 62 27 90 59 63 26 40 26 72 36 11 68 67 29 82 30 62 23 67 35 29 2 22 58 69 67 93 56 11 42 29 73 21 19 84 37 98 24 15 70 13 26 91 80 56 73 62 70 96 81 5 25 84 27 36 5 46 29 13 57 24 95 82 45 14 67 34 64 43 50 87 8 76 78 88 84 3 51 54 99 32 60 76 68 39 12 26 86 94 39 95 70 34 78 67 1 97 2 17 92 52 56 1 80 86 41 65 89 44 19 40 29 31 17 97 71 81 75 9 27 67 56 97 53 86 65 6 83 19 24 28 71 32 29 3 19 70 68 8 15 40 49 96 23 18 45 46 51 21 55 79 88 64 28 41 50 93 0 34 64 24 14 87 56 43 91 27 65 59 36 32 51 37 28 75 7 74 21 58 95 29 37 35 93 18 28 43 11 28 29 76 4 43 63 13 38 6 40 4 18 28 88 69 17 17 96 24 43 70 83 90 99 72 25 44 90 5 39 54 86 69 82 42 64 97 7 55 4 48 11 22 28 99 43 46 68 40 22 11 10 \n",
            "Array 2: 5 1 61 30 78 5 20 36 44 26 22 65 8 16 82 58 24 37 62 24 0 36 52 99 79 50 68 71 73 31 81 30 33 94 60 63 99 81 99 96 59 73 13 68 90 95 26 66 84 40 90 84 76 42 36 7 45 56 79 18 87 12 48 72 59 9 36 10 42 87 6 1 13 72 21 55 19 99 21 4 39 11 40 67 5 28 27 50 84 58 20 24 22 69 96 81 30 84 92 72 72 50 25 85 22 99 40 42 98 13 98 90 24 90 9 81 19 36 32 55 94 4 79 69 73 76 50 55 60 42 79 84 93 5 21 67 4 13 61 54 26 59 44 2 2 6 84 21 42 68 28 89 72 8 58 98 36 8 53 48 3 33 33 48 90 54 67 46 68 29 0 46 88 97 49 90 3 33 63 97 53 92 86 25 52 96 75 88 57 29 36 60 14 21 60 4 28 27 50 48 56 2 94 97 99 43 39 2 28 3 0 81 47 38 59 51 35 34 39 92 15 27 4 29 49 64 85 29 43 35 77 0 38 71 49 89 67 88 92 95 43 44 29 90 82 40 41 69 26 32 \n",
            "GPU result:\n",
            "0 0 0 0 0 0 0 0 0 0 0 0 0 0 0 0 0 0 0 0 0 0 0 0 0 0 0 0 0 0 0 0 0 0 0 0 0 0 0 0 0 0 0 0 0 0 0 0 0 0 0 0 0 0 0 0 0 0 0 0 0 0 0 0 0 0 0 0 0 0 0 0 0 0 0 0 0 0 0 0 0 0 0 0 0 0 0 0 0 0 0 0 0 0 0 0 0 0 0 0 0 0 0 0 0 0 0 0 0 0 0 0 0 0 0 0 0 0 0 0 0 0 0 0 0 0 0 0 0 0 0 0 0 0 0 0 0 0 0 0 0 0 0 0 0 0 0 0 0 0 0 0 0 0 0 0 0 0 0 0 0 0 0 0 0 0 0 0 0 0 0 0 0 0 0 0 0 0 0 0 0 0 0 0 0 0 0 0 0 0 0 0 0 0 0 0 0 0 0 0 0 0 0 0 0 0 0 0 0 0 0 0 0 0 0 0 0 0 0 0 0 0 0 0 0 0 0 0 0 0 0 0 0 0 0 0 0 0 0 0 0 0 0 0 0 0 0 0 0 0 \n"
          ]
        }
      ]
    },
    {
      "cell_type": "code",
      "source": [
        "%%cuda --name matrix_multiply.cu\n",
        "#include <iostream>\n",
        "#include <cuda_runtime.h>\n",
        "\n",
        "using namespace std;\n",
        "\n",
        "__global__ void matrixMultiply(int* A, int* B, int* C, int m, int n, int k)\n",
        "{\n",
        "    int row = blockIdx.y * blockDim.y + threadIdx.y;\n",
        "    int col = blockIdx.x * blockDim.x + threadIdx.x;\n",
        "\n",
        "    if (row < m && col < k)\n",
        "    {\n",
        "        int sum = 0;\n",
        "        for (int i = 0; i < n; i++)\n",
        "        {\n",
        "            sum += A[row * n + i] * B[i * k + col];\n",
        "        }\n",
        "        C[row * k + col] = sum;\n",
        "    }\n",
        "}\n",
        "\n",
        "void printMatrix(int* matrix, int rows, int cols)\n",
        "{\n",
        "    for (int i = 0; i < rows; i++)\n",
        "    {\n",
        "        for (int j = 0; j < cols; j++)\n",
        "        {\n",
        "            cout << matrix[i * cols + j] << \" \";\n",
        "        }\n",
        "        cout << endl;\n",
        "    }\n",
        "}\n",
        "\n",
        "int main()\n",
        "{\n",
        "    int A_rows = 3, A_cols = 2;\n",
        "    int B_rows = 2, B_cols = 3;\n",
        "\n",
        "    int A_size = A_rows * A_cols;\n",
        "    int B_size = B_rows * B_cols;\n",
        "    int C_size = A_rows * B_cols;\n",
        "\n",
        "    int* A = new int[A_size];\n",
        "    int* B = new int[B_size];\n",
        "    int* C = new int[C_size];\n",
        "\n",
        "    // Initialize matrix A\n",
        "    for (int i = 0; i < A_size; i++)\n",
        "    {\n",
        "        A[i] = i + 1;\n",
        "    }\n",
        "\n",
        "    // Initialize matrix B\n",
        "    for (int i = 0; i < B_size; i++)\n",
        "    {\n",
        "        B[i] = i + 1;\n",
        "    }\n",
        "\n",
        "    // Print input matrices\n",
        "    cout << \"Matrix A:\" << endl;\n",
        "    printMatrix(A, A_rows, A_cols);\n",
        "    cout << \"Matrix B:\" << endl;\n",
        "    printMatrix(B, B_rows, B_cols);\n",
        "\n",
        "    // Allocate memory on the device\n",
        "    int* dev_A, * dev_B, * dev_C;\n",
        "    cudaMalloc(&dev_A, A_size * sizeof(int));\n",
        "    cudaMalloc(&dev_B, B_size * sizeof(int));\n",
        "    cudaMalloc(&dev_C, C_size * sizeof(int));\n",
        "\n",
        "    // Copy data from host to device\n",
        "    cudaMemcpy(dev_A, A, A_size * sizeof(int), cudaMemcpyHostToDevice);\n",
        "    cudaMemcpy(dev_B, B, B_size * sizeof(int), cudaMemcpyHostToDevice);\n",
        "\n",
        "    // Define grid and block dimensions\n",
        "    dim3 dimGrid((B_cols + 16 - 1) / 16, (A_rows + 16 - 1) / 16);\n",
        "    dim3 dimBlock(16, 16);\n",
        "\n",
        "    // Launch the matrix multiplication kernel\n",
        "    matrixMultiply<<<dimGrid, dimBlock>>>(dev_A, dev_B, dev_C, A_rows, A_cols, B_cols);\n",
        "\n",
        "    // Copy the result from device to host\n",
        "    cudaMemcpy(C, dev_C, C_size * sizeof(int), cudaMemcpyDeviceToHost);\n",
        "\n",
        "    // Print the result matrix\n",
        "    cout << \"Matrix C (Result of A * B):\" << endl;\n",
        "    printMatrix(C, A_rows, B_cols);\n",
        "\n",
        "    // Free memory\n",
        "    cudaFree(dev_A);\n",
        "    cudaFree(dev_B);\n",
        "    cudaFree(dev_C);\n",
        "    delete[] A;\n",
        "    delete[] B;\n",
        "    delete[] C;\n",
        "\n",
        "    return 0;\n",
        "}\n"
      ],
      "metadata": {
        "colab": {
          "base_uri": "https://localhost:8080/",
          "height": 36
        },
        "id": "WkRe9mcOVogc",
        "outputId": "3a69015f-2195-4e58-d5e3-51b889a67b79"
      },
      "execution_count": null,
      "outputs": [
        {
          "output_type": "execute_result",
          "data": {
            "text/plain": [
              "'File written in /content/src/matrix_multiply.cu'"
            ],
            "application/vnd.google.colaboratory.intrinsic+json": {
              "type": "string"
            }
          },
          "metadata": {},
          "execution_count": 52
        }
      ]
    },
    {
      "cell_type": "code",
      "source": [
        "!nvcc /content/src/matrix_multiply.cu -o /content/src/matrix_multiply"
      ],
      "metadata": {
        "id": "0MV2YpYVqcjP"
      },
      "execution_count": null,
      "outputs": []
    },
    {
      "cell_type": "code",
      "source": [
        "!/content/src/matrix_multiply"
      ],
      "metadata": {
        "colab": {
          "base_uri": "https://localhost:8080/"
        },
        "id": "CLNeihUqqcnx",
        "outputId": "d4bac3d0-9c98-456d-9618-7f4313937d16"
      },
      "execution_count": null,
      "outputs": [
        {
          "output_type": "stream",
          "name": "stdout",
          "text": [
            "Matrix A:\n",
            "1 2 \n",
            "3 4 \n",
            "5 6 \n",
            "Matrix B:\n",
            "1 2 3 \n",
            "4 5 6 \n",
            "Matrix C (Result of A * B):\n",
            "0 0 0 \n",
            "0 0 0 \n",
            "0 0 0 \n"
          ]
        }
      ]
    }
  ]
}